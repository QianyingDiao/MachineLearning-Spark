{
 "cells": [
  {
   "cell_type": "markdown",
   "metadata": {},
   "source": [
    "# Build Predictive Model(s)\n",
    "\n",
    "In this workbook, you will read the merged dataset you created previously and you will create transformer, estimators and pipelines to build a binary classification model to predict wether a trip has a tip or not.\n",
    "\n",
    "## Instructions:\n",
    "\n",
    "1. Read in your merged dataset\n",
    "2. Use transformes and encoders to perform feature engineering\n",
    "3. Split into training and testing\n",
    "4. Build `LogisticRegression` model(s) and train them using pipelines\n",
    "5. Evaluate the performance of the model(s) using `BinaryClassificationMetrics`\n",
    "\n",
    "You are welcome to add as many cells as you need below up until the next section. **You must include comments in your code.**"
   ]
  },
  {
   "cell_type": "code",
   "execution_count": 1,
   "metadata": {},
   "outputs": [],
   "source": [
    "import findspark\n",
    "findspark.init()\n",
    "from pyspark.sql import SparkSession\n",
    "spark = SparkSession.builder.appName(\"A04\").getOrCreate()"
   ]
  },
  {
   "cell_type": "code",
   "execution_count": 2,
   "metadata": {},
   "outputs": [
    {
     "data": {
      "text/html": [
       "\n",
       "            <div>\n",
       "                <p><b>SparkSession - in-memory</b></p>\n",
       "                \n",
       "        <div>\n",
       "            <p><b>SparkContext</b></p>\n",
       "\n",
       "            <p><a href=\"http://ip-172-31-17-251.ec2.internal:4040\">Spark UI</a></p>\n",
       "\n",
       "            <dl>\n",
       "              <dt>Version</dt>\n",
       "                <dd><code>v2.4.0</code></dd>\n",
       "              <dt>Master</dt>\n",
       "                <dd><code>yarn</code></dd>\n",
       "              <dt>AppName</dt>\n",
       "                <dd><code>A04</code></dd>\n",
       "            </dl>\n",
       "        </div>\n",
       "        \n",
       "            </div>\n",
       "        "
      ],
      "text/plain": [
       "<pyspark.sql.session.SparkSession at 0x7f7e0b2a4780>"
      ]
     },
     "execution_count": 2,
     "metadata": {},
     "output_type": "execute_result"
    }
   ],
   "source": [
    "spark"
   ]
  },
  {
   "cell_type": "code",
   "execution_count": 3,
   "metadata": {},
   "outputs": [],
   "source": [
    "# Load merged data\n",
    "df = spark.read\\\n",
    "  .option('header', 'true')\\\n",
    "  .option('inferSchema', 'true')\\\n",
    "  .load('s3://bigdata-a04-qianying/merged_data')"
   ]
  },
  {
   "cell_type": "code",
   "execution_count": 4,
   "metadata": {},
   "outputs": [
    {
     "name": "stdout",
     "output_type": "stream",
     "text": [
      "root\n",
      " |-- medallion: string (nullable = true)\n",
      " |-- hack_license: string (nullable = true)\n",
      " |-- vendor_id: string (nullable = true)\n",
      " |-- pickup_datetime: timestamp (nullable = true)\n",
      " |-- rate_code: integer (nullable = true)\n",
      " |-- store_and_fwd_flag: string (nullable = true)\n",
      " |-- dropoff_datetime: timestamp (nullable = true)\n",
      " |-- passenger_count: integer (nullable = true)\n",
      " |-- trip_time_in_secs: float (nullable = true)\n",
      " |-- trip_distance: float (nullable = true)\n",
      " |-- pickup_longitude: float (nullable = true)\n",
      " |-- pickup_latitude: float (nullable = true)\n",
      " |-- dropoff_longitude: float (nullable = true)\n",
      " |-- dropoff_latitude: float (nullable = true)\n",
      " |-- payment_type: string (nullable = true)\n",
      " |-- fare_amount: float (nullable = true)\n",
      " |-- surcharge: float (nullable = true)\n",
      " |-- mta_tax: float (nullable = true)\n",
      " |-- tip_amount: float (nullable = true)\n",
      " |-- tolls_amount: float (nullable = true)\n",
      " |-- total_amount: float (nullable = true)\n",
      "\n"
     ]
    }
   ],
   "source": [
    "# Print the schema\n",
    "df.printSchema()"
   ]
  },
  {
   "cell_type": "markdown",
   "metadata": {},
   "source": [
    "* Prepare data"
   ]
  },
  {
   "cell_type": "code",
   "execution_count": 5,
   "metadata": {},
   "outputs": [],
   "source": [
    "# Create a field as label based on tip_amount\n",
    "from pyspark.sql.functions import col, expr, when\n",
    "\n",
    "new_df = df.withColumn(\"whether_tip\", when(df.tip_amount==0,'no').otherwise('yes')).cache() #convert value to array"
   ]
  },
  {
   "cell_type": "code",
   "execution_count": 6,
   "metadata": {},
   "outputs": [
    {
     "name": "stdout",
     "output_type": "stream",
     "text": [
      "root\n",
      " |-- medallion: string (nullable = true)\n",
      " |-- hack_license: string (nullable = true)\n",
      " |-- vendor_id: string (nullable = true)\n",
      " |-- pickup_datetime: timestamp (nullable = true)\n",
      " |-- rate_code: integer (nullable = true)\n",
      " |-- store_and_fwd_flag: string (nullable = true)\n",
      " |-- dropoff_datetime: timestamp (nullable = true)\n",
      " |-- passenger_count: integer (nullable = true)\n",
      " |-- trip_time_in_secs: float (nullable = true)\n",
      " |-- trip_distance: float (nullable = true)\n",
      " |-- pickup_longitude: float (nullable = true)\n",
      " |-- pickup_latitude: float (nullable = true)\n",
      " |-- dropoff_longitude: float (nullable = true)\n",
      " |-- dropoff_latitude: float (nullable = true)\n",
      " |-- payment_type: string (nullable = true)\n",
      " |-- fare_amount: float (nullable = true)\n",
      " |-- surcharge: float (nullable = true)\n",
      " |-- mta_tax: float (nullable = true)\n",
      " |-- tip_amount: float (nullable = true)\n",
      " |-- tolls_amount: float (nullable = true)\n",
      " |-- total_amount: float (nullable = true)\n",
      " |-- whether_tip: string (nullable = false)\n",
      "\n"
     ]
    }
   ],
   "source": [
    "# Print the schema\n",
    "new_df.printSchema()"
   ]
  },
  {
   "cell_type": "code",
   "execution_count": 7,
   "metadata": {},
   "outputs": [
    {
     "name": "stdout",
     "output_type": "stream",
     "text": [
      "Number of training records: 103909153\n",
      "Number of testing records : 69275938\n"
     ]
    }
   ],
   "source": [
    "# Split data into training and testing\n",
    "splitted_data = new_df.randomSplit([0.6, 0.4], 24)\n",
    "train_data = splitted_data[0]\n",
    "test_data = splitted_data[1]\n",
    "\n",
    "print(\"Number of training records: \" + str(train_data.count()))\n",
    "print(\"Number of testing records : \" + str(test_data.count()))"
   ]
  },
  {
   "cell_type": "code",
   "execution_count": 8,
   "metadata": {},
   "outputs": [
    {
     "data": {
      "text/plain": [
       "DataFrame[medallion: string, hack_license: string, vendor_id: string, pickup_datetime: timestamp, rate_code: int, store_and_fwd_flag: string, dropoff_datetime: timestamp, passenger_count: int, trip_time_in_secs: float, trip_distance: float, pickup_longitude: float, pickup_latitude: float, dropoff_longitude: float, dropoff_latitude: float, payment_type: string, fare_amount: float, surcharge: float, mta_tax: float, tip_amount: float, tolls_amount: float, total_amount: float, whether_tip: string]"
      ]
     },
     "execution_count": 8,
     "metadata": {},
     "output_type": "execute_result"
    }
   ],
   "source": [
    "train_data.cache()"
   ]
  },
  {
   "cell_type": "code",
   "execution_count": 9,
   "metadata": {},
   "outputs": [
    {
     "data": {
      "text/plain": [
       "DataFrame[medallion: string, hack_license: string, vendor_id: string, pickup_datetime: timestamp, rate_code: int, store_and_fwd_flag: string, dropoff_datetime: timestamp, passenger_count: int, trip_time_in_secs: float, trip_distance: float, pickup_longitude: float, pickup_latitude: float, dropoff_longitude: float, dropoff_latitude: float, payment_type: string, fare_amount: float, surcharge: float, mta_tax: float, tip_amount: float, tolls_amount: float, total_amount: float, whether_tip: string]"
      ]
     },
     "execution_count": 9,
     "metadata": {},
     "output_type": "execute_result"
    }
   ],
   "source": [
    "test_data.cache()"
   ]
  },
  {
   "cell_type": "markdown",
   "metadata": {},
   "source": [
    "* Create pipeline and train a model"
   ]
  },
  {
   "cell_type": "code",
   "execution_count": 10,
   "metadata": {},
   "outputs": [],
   "source": [
    "# Import all the packages we need\n",
    "\n",
    "from pyspark.ml.feature import OneHotEncoder, StringIndexer, IndexToString, VectorAssembler\n",
    "from pyspark.ml.classification import LogisticRegression\n",
    "from pyspark.mllib.evaluation import BinaryClassificationMetrics\n",
    "from pyspark.ml import Pipeline, Model"
   ]
  },
  {
   "cell_type": "code",
   "execution_count": 11,
   "metadata": {},
   "outputs": [],
   "source": [
    "# Convert string fields to numeric ones.\n",
    "stringIndexer_label = StringIndexer(inputCol=\"whether_tip\", outputCol=\"label\").setHandleInvalid(\"skip\")\n",
    "stringIndexer_vendor_id = StringIndexer(inputCol=\"vendor_id\", outputCol=\"vendor_id_IX\").setHandleInvalid(\"skip\")\n",
    "stringIndexer_store_and_fwd_flag = StringIndexer(inputCol=\"store_and_fwd_flag\", outputCol=\"store_and_fwd_flag_IX\").setHandleInvalid(\"skip\")\n",
    "stringIndexer_payment_type = StringIndexer(inputCol=\"payment_type\", outputCol=\"payment_type_IX\").setHandleInvalid(\"skip\")"
   ]
  },
  {
   "cell_type": "code",
   "execution_count": 12,
   "metadata": {},
   "outputs": [
    {
     "data": {
      "text/plain": [
       "['yes', 'no']"
      ]
     },
     "execution_count": 12,
     "metadata": {},
     "output_type": "execute_result"
    }
   ],
   "source": [
    "# Check the values of label\n",
    "stringIndexer_label.fit(new_df).labels"
   ]
  },
  {
   "cell_type": "code",
   "execution_count": 13,
   "metadata": {},
   "outputs": [
    {
     "data": {
      "text/plain": [
       "['CMT', 'VTS']"
      ]
     },
     "execution_count": 13,
     "metadata": {},
     "output_type": "execute_result"
    }
   ],
   "source": [
    "# Check the values of vendor_id\n",
    "stringIndexer_vendor_id.fit(new_df).labels"
   ]
  },
  {
   "cell_type": "code",
   "execution_count": 14,
   "metadata": {},
   "outputs": [
    {
     "data": {
      "text/plain": [
       "['N', 'Y']"
      ]
     },
     "execution_count": 14,
     "metadata": {},
     "output_type": "execute_result"
    }
   ],
   "source": [
    "# Check the values of store_and_fwd_flag\n",
    "stringIndexer_store_and_fwd_flag.fit(new_df).labels"
   ]
  },
  {
   "cell_type": "code",
   "execution_count": 15,
   "metadata": {},
   "outputs": [
    {
     "data": {
      "text/plain": [
       "['CRD', 'CSH', 'NOC', 'UNK', 'DIS']"
      ]
     },
     "execution_count": 15,
     "metadata": {},
     "output_type": "execute_result"
    }
   ],
   "source": [
    "# Check the values of payment_type\n",
    "stringIndexer_payment_type.fit(new_df).labels"
   ]
  },
  {
   "cell_type": "code",
   "execution_count": 16,
   "metadata": {},
   "outputs": [],
   "source": [
    "# Since we made our target variable based on tip_amount, we remove this column, otherwise it will be highly correlated to the target variable.\n",
    "# And we can remove toal_amount, because it is highly correlated to fare_amount, surcharge, mta_tax, and tolls_amount\n",
    "# Create a feature vector by combining all features together\n",
    "vectorAssembler_features = VectorAssembler(\n",
    "    inputCols=['vendor_id_IX',\n",
    "               \"store_and_fwd_flag_IX\",\n",
    "               \"payment_type_IX\",\n",
    "               \"passenger_count\",\n",
    "               'rate_code',\n",
    "               \"trip_time_in_secs\",\n",
    "               \"trip_distance\",\n",
    "               \"fare_amount\",\n",
    "               \"surcharge\",\n",
    "               \"mta_tax\",\n",
    "               \"tolls_amount\"], \n",
    "    outputCol=\"features\")"
   ]
  },
  {
   "cell_type": "code",
   "execution_count": 17,
   "metadata": {},
   "outputs": [
    {
     "data": {
      "text/plain": [
       "VectorAssembler_82ef3ede23a5"
      ]
     },
     "execution_count": 17,
     "metadata": {},
     "output_type": "execute_result"
    }
   ],
   "source": [
    "vectorAssembler_features"
   ]
  },
  {
   "cell_type": "code",
   "execution_count": 18,
   "metadata": {},
   "outputs": [],
   "source": [
    "# Define estimators for classification. \n",
    "log_model = LogisticRegression(labelCol=\"label\", featuresCol='features',maxIter=10, regParam=0.3, elasticNetParam=0.8, family=\"multinomial\")# Build a LogisticRegression model and train it using pipelines."
   ]
  },
  {
   "cell_type": "code",
   "execution_count": 19,
   "metadata": {},
   "outputs": [],
   "source": [
    "# Indexed labels back to original labels.\n",
    "labelConverter = IndexToString(inputCol=\"prediction\", \n",
    "                               outputCol=\"predictedLabel\",\n",
    "                               labels=stringIndexer_label.fit(new_df).labels)"
   ]
  },
  {
   "cell_type": "code",
   "execution_count": 20,
   "metadata": {},
   "outputs": [],
   "source": [
    "# Build a pipeline\n",
    "pipeline_lg_model = Pipeline(stages=[stringIndexer_label, \n",
    "                               stringIndexer_vendor_id,\n",
    "                               stringIndexer_store_and_fwd_flag,\n",
    "                               stringIndexer_payment_type,\n",
    "                               vectorAssembler_features, \n",
    "                               log_model, labelConverter])"
   ]
  },
  {
   "cell_type": "code",
   "execution_count": 21,
   "metadata": {},
   "outputs": [],
   "source": [
    "# Train the LogisticRegression model by using the previously defined pipeline and parts of train data to check whether the pipelines work as planned.\n",
    "\n",
    "sample = train_data.limit(100) # Create a tiny DataFrame\n",
    "model_lg = pipeline_lg_model.fit(sample)"
   ]
  },
  {
   "cell_type": "code",
   "execution_count": 18,
   "metadata": {},
   "outputs": [],
   "source": [
    "# Now we can apply the model and pipeline to the whole train_data\n",
    "model_lg = pipeline_lg_model.fit(train_data)"
   ]
  },
  {
   "cell_type": "code",
   "execution_count": 23,
   "metadata": {},
   "outputs": [
    {
     "data": {
      "text/plain": [
       "[(0.6794375606656293, 1.0),\n",
       " (0.28785977446453387, 0.0),\n",
       " (0.6794375606656293, 1.0),\n",
       " (0.6794375606656293, 1.0),\n",
       " (0.6794375606656293, 1.0)]"
      ]
     },
     "execution_count": 23,
     "metadata": {},
     "output_type": "execute_result"
    }
   ],
   "source": [
    "# Evaluate model\n",
    "\n",
    "predictions = model_lg.transform(test_data)\n",
    "results = predictions.select(['probability','prediction']) # dataframe\n",
    "\n",
    "results_collect = results.collect() # list\n",
    "\n",
    "results_list = [(float(i[0][0]), 1-float(i[1])) for i in results_collect]\n",
    "\n",
    "scoreAndLabels = spark.sparkContext.parallelize(results_list)\n",
    "\n",
    "scoreAndLabels.take(5)"
   ]
  },
  {
   "cell_type": "code",
   "execution_count": 155,
   "metadata": {},
   "outputs": [],
   "source": [
    "evaluator = BinaryClassificationMetrics(scoreAndLabels)"
   ]
  },
  {
   "cell_type": "code",
   "execution_count": 24,
   "metadata": {},
   "outputs": [
    {
     "name": "stdout",
     "output_type": "stream",
     "text": [
      "+--------------------+--------------------+---------+-------------------+---------+------------------+-------------------+---------------+-----------------+-------------+----------------+---------------+-----------------+----------------+------------+-----------+---------+-------+----------+------------+------------+-----------+-----+------------+---------------------+---------------+--------------------+--------------------+--------------------+----------+--------------+\n",
      "|           medallion|        hack_license|vendor_id|    pickup_datetime|rate_code|store_and_fwd_flag|   dropoff_datetime|passenger_count|trip_time_in_secs|trip_distance|pickup_longitude|pickup_latitude|dropoff_longitude|dropoff_latitude|payment_type|fare_amount|surcharge|mta_tax|tip_amount|tolls_amount|total_amount|whether_tip|label|vendor_id_IX|store_and_fwd_flag_IX|payment_type_IX|            features|       rawPrediction|         probability|prediction|predictedLabel|\n",
      "+--------------------+--------------------+---------+-------------------+---------+------------------+-------------------+---------------+-----------------+-------------+----------------+---------------+-----------------+----------------+------------+-----------+---------+-------+----------+------------+------------+-----------+-----+------------+---------------------+---------------+--------------------+--------------------+--------------------+----------+--------------+\n",
      "|00005007A9F30E289...|24C122A944FB8EE21...|      CMT|2013-10-05 07:40:40|        1|                 N|2013-10-05 07:57:20|              3|           1000.0|          3.7|       -73.96649|      40.789413|        -74.00306|       40.745758|         CRD|       15.0|      0.0|    0.5|      3.87|         0.0|       19.37|        yes|  0.0|         0.0|                  0.0|            0.0|(11,[3,4,5,6,7,9]...|[0.37559413167508...|[0.67943756066562...|       0.0|           yes|\n",
      "|00005007A9F30E289...|24C122A944FB8EE21...|      CMT|2013-10-14 10:41:18|        1|                 N|2013-10-14 11:02:17|              1|           1259.0|          1.5|      -73.960266|       40.78176|        -73.96746|       40.763233|         CSH|       13.0|      0.0|    0.5|       0.0|         0.0|        13.5|         no|  1.0|         0.0|                  0.0|            1.0|[0.0,0.0,1.0,1.0,...|[-0.4529006853266...|[0.28785977446453...|       1.0|            no|\n",
      "|00005007A9F30E289...|24C122A944FB8EE21...|      CMT|2013-11-27 07:05:21|        1|                 N|2013-11-27 07:14:49|              1|            567.0|          1.4|      -74.010284|       40.70343|        -74.00629|        40.71713|         CRD|        8.0|      0.0|    0.5|       2.0|         0.0|        10.5|        yes|  0.0|         0.0|                  0.0|            0.0|(11,[3,4,5,6,7,9]...|[0.37559413167508...|[0.67943756066562...|       0.0|           yes|\n",
      "|00005007A9F30E289...|24C122A944FB8EE21...|      CMT|2013-12-23 10:40:28|        1|                 N|2013-12-23 10:51:39|              1|            670.0|          1.9|       -73.98193|      40.775616|        -73.95806|       40.777206|         CRD|        9.5|      0.0|    0.5|       2.0|         0.0|        12.0|        yes|  0.0|         0.0|                  0.0|            0.0|(11,[3,4,5,6,7,9]...|[0.37559413167508...|[0.67943756066562...|       0.0|           yes|\n",
      "|00005007A9F30E289...|39C3E34B3E338A721...|      CMT|2013-01-14 10:44:15|        1|                 N|2013-01-14 10:50:19|              1|            363.0|          0.8|      -73.981995|      40.768238|        -73.98929|       40.774204|         CRD|        6.0|      0.0|    0.5|       1.0|         0.0|         7.5|        yes|  0.0|         0.0|                  0.0|            0.0|(11,[3,4,5,6,7,9]...|[0.37559413167508...|[0.67943756066562...|       0.0|           yes|\n",
      "|00005007A9F30E289...|39C3E34B3E338A721...|      CMT|2013-01-16 11:56:01|        1|                 N|2013-01-16 12:05:10|              2|            549.0|          1.7|       -73.98088|       40.76046|       -73.979614|        40.78198|         CSH|        8.5|      1.0|    0.5|       0.0|         0.0|        10.0|         no|  1.0|         0.0|                  0.0|            1.0|[0.0,0.0,1.0,2.0,...|[-0.4529006853266...|[0.28785977446453...|       1.0|            no|\n",
      "|00005007A9F30E289...|39C3E34B3E338A721...|      CMT|2013-01-25 10:50:41|        1|                 N|2013-01-25 10:55:03|              1|            261.0|          1.1|       -73.97976|      40.781273|        -73.96695|        40.79093|         CRD|        5.5|      0.0|    0.5|       1.2|         0.0|         7.2|        yes|  0.0|         0.0|                  0.0|            0.0|(11,[3,4,5,6,7,9]...|[0.37559413167508...|[0.67943756066562...|       0.0|           yes|\n",
      "|00005007A9F30E289...|39C3E34B3E338A721...|      CMT|2013-02-09 12:06:17|        1|                 N|2013-02-09 12:08:22|              1|            124.0|          0.3|       -73.97138|      40.764393|         -73.9673|         40.7641|         CSH|        3.5|      0.0|    0.5|       0.0|         0.0|         4.0|         no|  1.0|         0.0|                  0.0|            1.0|[0.0,0.0,1.0,1.0,...|[-0.4529006853266...|[0.28785977446453...|       1.0|            no|\n",
      "|00005007A9F30E289...|39C3E34B3E338A721...|      CMT|2013-02-15 08:35:14|        1|                 N|2013-02-15 08:57:29|              1|           1315.0|          3.4|       -73.98897|       40.73822|        -73.98193|       40.779026|         CRD|       16.0|      0.0|    0.5|       3.3|         0.0|        19.8|        yes|  0.0|         0.0|                  0.0|            0.0|(11,[3,4,5,6,7,9]...|[0.37559413167508...|[0.67943756066562...|       0.0|           yes|\n",
      "|00005007A9F30E289...|39C3E34B3E338A721...|      CMT|2013-05-24 12:13:22|        1|                 N|2013-05-24 12:27:46|              1|            864.0|          2.2|         -73.984|       40.75423|        -73.98614|       40.778393|         CRD|       11.0|      1.0|    0.5|       2.5|         0.0|        15.0|        yes|  0.0|         0.0|                  0.0|            0.0|[0.0,0.0,0.0,1.0,...|[0.37559413167508...|[0.67943756066562...|       0.0|           yes|\n",
      "|00005007A9F30E289...|39C3E34B3E338A721...|      CMT|2013-07-26 08:13:22|        1|                 Y|2013-07-26 08:34:04|              1|           1241.0|          2.6|       -73.98893|       40.74862|        -73.99857|        40.72319|         CSH|       14.0|      0.0|    0.5|       0.0|         0.0|        14.5|         no|  1.0|         0.0|                  1.0|            1.0|[0.0,1.0,1.0,1.0,...|[-0.4529006853266...|[0.28785977446453...|       1.0|            no|\n",
      "|00005007A9F30E289...|39C3E34B3E338A721...|      CMT|2013-07-27 13:15:42|        1|                 N|2013-07-27 13:21:39|              2|            356.0|          0.9|      -73.961945|      40.778988|        -73.95026|       40.780262|         CRD|        6.0|      0.0|    0.5|       1.3|         0.0|         7.8|        yes|  0.0|         0.0|                  0.0|            0.0|(11,[3,4,5,6,7,9]...|[0.37559413167508...|[0.67943756066562...|       0.0|           yes|\n",
      "|00005007A9F30E289...|3FDE870B892182B43...|      CMT|2013-10-24 17:56:45|        1|                 N|2013-10-24 18:06:12|              1|            567.0|          0.9|       -73.98095|      40.752857|        -73.98608|       40.744305|         CSH|        7.5|      0.5|    0.5|       0.0|         0.0|         8.5|         no|  1.0|         0.0|                  0.0|            1.0|[0.0,0.0,1.0,1.0,...|[-0.4529006853266...|[0.28785977446453...|       1.0|            no|\n",
      "|00005007A9F30E289...|3FDE870B892182B43...|      CMT|2013-11-12 13:21:30|        1|                 N|2013-11-12 13:26:49|              2|            318.0|          0.6|      -73.960556|       40.77838|        -73.95088|       40.777473|         CSH|        5.5|      1.0|    0.5|       0.0|         0.0|         7.0|         no|  1.0|         0.0|                  0.0|            1.0|[0.0,0.0,1.0,2.0,...|[-0.4529006853266...|[0.28785977446453...|       1.0|            no|\n",
      "|00005007A9F30E289...|3FDE870B892182B43...|      CMT|2013-11-18 16:06:22|        1|                 N|2013-11-18 16:28:29|              1|           1326.0|          4.6|       -73.97996|        40.7759|        -73.98737|       40.725494|         CRD|       18.5|      0.5|    0.5|       2.0|         0.0|        21.5|        yes|  0.0|         0.0|                  0.0|            0.0|[0.0,0.0,0.0,1.0,...|[0.37559413167508...|[0.67943756066562...|       0.0|           yes|\n",
      "|00005007A9F30E289...|680B95D9934B453E3...|      CMT|2013-03-26 14:19:28|        1|                 N|2013-03-26 14:26:05|              1|            396.0|          1.0|       -73.99218|      40.738037|        -74.00789|        40.73907|         CSH|        6.5|      1.0|    0.5|       0.0|         0.0|         8.0|         no|  1.0|         0.0|                  0.0|            1.0|[0.0,0.0,1.0,1.0,...|[-0.4529006853266...|[0.28785977446453...|       1.0|            no|\n",
      "|00005007A9F30E289...|7A45FBD29E50F1113...|      CMT|2013-11-10 14:20:45|        1|                 N|2013-11-10 14:39:19|              1|           1113.0|          7.0|       -73.98843|      40.774593|       -73.932495|       40.852318|         CRD|       22.0|      0.0|    0.5|       1.5|         0.0|        24.0|        yes|  0.0|         0.0|                  0.0|            0.0|(11,[3,4,5,6,7,9]...|[0.37559413167508...|[0.67943756066562...|       0.0|           yes|\n",
      "|00005007A9F30E289...|A7868B90F52F43111...|      CMT|2013-04-23 19:01:33|        1|                 N|2013-04-23 19:22:07|              1|           1234.0|          9.1|      -73.885155|      40.772682|        -73.98725|         40.7293|         CRD|       27.5|      0.5|    0.5|      6.76|        5.33|       40.59|        yes|  0.0|         0.0|                  0.0|            0.0|[0.0,0.0,0.0,1.0,...|[0.37559413167508...|[0.67943756066562...|       0.0|           yes|\n",
      "|00005007A9F30E289...|A9AE329EA1138052D...|      CMT|2013-03-16 17:20:24|        1|                 N|2013-03-16 17:33:02|              1|            758.0|          2.3|       -74.01272|      40.715416|        -73.99108|       40.734535|         CRD|       11.5|      0.5|    0.5|       2.5|         0.0|        15.0|        yes|  0.0|         0.0|                  0.0|            0.0|[0.0,0.0,0.0,1.0,...|[0.37559413167508...|[0.67943756066562...|       0.0|           yes|\n",
      "|00005007A9F30E289...|A9AE329EA1138052D...|      CMT|2013-03-22 16:29:56|        1|                 N|2013-03-22 16:39:41|              1|            584.0|          2.4|      -73.994385|      40.746265|        -73.97008|        40.76505|         CSH|       10.0|      0.5|    0.5|       0.0|         0.0|        11.0|         no|  1.0|         0.0|                  0.0|            1.0|[0.0,0.0,1.0,1.0,...|[-0.4529006853266...|[0.28785977446453...|       1.0|            no|\n",
      "+--------------------+--------------------+---------+-------------------+---------+------------------+-------------------+---------------+-----------------+-------------+----------------+---------------+-----------------+----------------+------------+-----------+---------+-------+----------+------------+------------+-----------+-----+------------+---------------------+---------------+--------------------+--------------------+--------------------+----------+--------------+\n",
      "only showing top 20 rows\n",
      "\n"
     ]
    }
   ],
   "source": [
    "predictions.show()"
   ]
  },
  {
   "cell_type": "markdown",
   "metadata": {},
   "source": [
    "## In the following cells, please provide the requested code and output. Do not change the order and/or structure of the cells."
   ]
  },
  {
   "cell_type": "markdown",
   "metadata": {},
   "source": [
    "In the following cell, print the Area Under the Curve (AUC) for your binary classifier."
   ]
  },
  {
   "cell_type": "code",
   "execution_count": 48,
   "metadata": {},
   "outputs": [
    {
     "name": "stdout",
     "output_type": "stream",
     "text": [
      "Area under ROC = 0.9920613274397734\n"
     ]
    }
   ],
   "source": [
    "print(\"Area under ROC = %s\" % evaluator.areaUnderROC)"
   ]
  },
  {
   "cell_type": "markdown",
   "metadata": {},
   "source": [
    "In the following cell, provide the code that saves your model your S3 bucket."
   ]
  },
  {
   "cell_type": "code",
   "execution_count": 22,
   "metadata": {},
   "outputs": [],
   "source": [
    "model_lg.save(\"s3://bigdata-a04-qianying/model\")"
   ]
  }
 ],
 "metadata": {
  "anaconda-cloud": {},
  "celltoolbar": "Raw Cell Format",
  "kernelspec": {
   "display_name": "Python 3",
   "language": "python",
   "name": "python3"
  },
  "language_info": {
   "codemirror_mode": {
    "name": "ipython",
    "version": 3
   },
   "file_extension": ".py",
   "mimetype": "text/x-python",
   "name": "python",
   "nbconvert_exporter": "python",
   "pygments_lexer": "ipython3",
   "version": "3.6.8"
  }
 },
 "nbformat": 4,
 "nbformat_minor": 2
}
