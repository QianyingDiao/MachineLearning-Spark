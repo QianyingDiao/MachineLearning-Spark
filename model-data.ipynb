{
 "cells": [
  {
   "cell_type": "markdown",
   "metadata": {},
   "source": [
    "# Build Predictive Model(s)\n",
    "\n",
    "In this workbook, you will read the merged dataset you created previously and you will create transformer, estimators and pipelines to build a binary classification model to predict wether a trip has a tip or not.\n",
    "\n",
    "## Instructions:\n",
    "\n",
    "1. Read in your merged dataset\n",
    "2. Use transformes and encoders to perform feature engineering\n",
    "3. Split into training and testing\n",
    "4. Build `LogisticRegression` model(s) and train them using pipelines\n",
    "5. Evaluate the performance of the model(s) using `BinaryClassificationMetrics`\n",
    "\n",
    "You are welcome to add as many cells as you need below up until the next section. **You must include comments in your code.**"
   ]
  },
  {
   "cell_type": "code",
   "execution_count": 1,
   "metadata": {},
   "outputs": [],
   "source": [
    "import findspark\n",
    "findspark.init()\n",
    "from pyspark.sql import SparkSession\n",
    "spark = SparkSession.builder.appName(\"A04\").getOrCreate()"
   ]
  },
  {
   "cell_type": "code",
   "execution_count": 2,
   "metadata": {},
   "outputs": [
    {
     "data": {
      "text/html": [
       "\n",
       "            <div>\n",
       "                <p><b>SparkSession - in-memory</b></p>\n",
       "                \n",
       "        <div>\n",
       "            <p><b>SparkContext</b></p>\n",
       "\n",
       "            <p><a href=\"http://ip-172-31-29-251.ec2.internal:4040\">Spark UI</a></p>\n",
       "\n",
       "            <dl>\n",
       "              <dt>Version</dt>\n",
       "                <dd><code>v2.4.0</code></dd>\n",
       "              <dt>Master</dt>\n",
       "                <dd><code>yarn</code></dd>\n",
       "              <dt>AppName</dt>\n",
       "                <dd><code>A04</code></dd>\n",
       "            </dl>\n",
       "        </div>\n",
       "        \n",
       "            </div>\n",
       "        "
      ],
      "text/plain": [
       "<pyspark.sql.session.SparkSession at 0x7fbe402d5748>"
      ]
     },
     "execution_count": 2,
     "metadata": {},
     "output_type": "execute_result"
    }
   ],
   "source": [
    "spark"
   ]
  },
  {
   "cell_type": "code",
   "execution_count": 3,
   "metadata": {},
   "outputs": [],
   "source": [
    "# Load merged data\n",
    "df = spark.read\\\n",
    "  .option('header', 'true')\\\n",
    "  .option('inferSchema', 'true')\\\n",
    "  .load('s3://bigdata-a04-qianying/merged_data')"
   ]
  },
  {
   "cell_type": "code",
   "execution_count": 4,
   "metadata": {},
   "outputs": [
    {
     "name": "stdout",
     "output_type": "stream",
     "text": [
      "root\n",
      " |-- medallion: string (nullable = true)\n",
      " |-- hack_license: string (nullable = true)\n",
      " |-- vendor_id: string (nullable = true)\n",
      " |-- pickup_datetime: timestamp (nullable = true)\n",
      " |-- rate_code: integer (nullable = true)\n",
      " |-- store_and_fwd_flag: string (nullable = true)\n",
      " |-- dropoff_datetime: timestamp (nullable = true)\n",
      " |-- passenger_count: integer (nullable = true)\n",
      " |-- trip_time_in_secs: float (nullable = true)\n",
      " |-- trip_distance: float (nullable = true)\n",
      " |-- pickup_longitude: float (nullable = true)\n",
      " |-- pickup_latitude: float (nullable = true)\n",
      " |-- dropoff_longitude: float (nullable = true)\n",
      " |-- dropoff_latitude: float (nullable = true)\n",
      " |-- payment_type: string (nullable = true)\n",
      " |-- fare_amount: float (nullable = true)\n",
      " |-- surcharge: float (nullable = true)\n",
      " |-- mta_tax: float (nullable = true)\n",
      " |-- tip_amount: float (nullable = true)\n",
      " |-- tolls_amount: float (nullable = true)\n",
      " |-- total_amount: float (nullable = true)\n",
      "\n"
     ]
    }
   ],
   "source": [
    "# Print the schema\n",
    "df.printSchema()"
   ]
  },
  {
   "cell_type": "markdown",
   "metadata": {},
   "source": [
    "* Prepare data"
   ]
  },
  {
   "cell_type": "code",
   "execution_count": 5,
   "metadata": {},
   "outputs": [],
   "source": [
    "# Create a field as label based on tip_amount\n",
    "from pyspark.sql.functions import col, expr, when\n",
    "\n",
    "new_df = df.withColumn(\"whether_tip\", when(df.tip_amount==0,'no').otherwise('yes')).cache() #convert value to array"
   ]
  },
  {
   "cell_type": "code",
   "execution_count": 6,
   "metadata": {},
   "outputs": [
    {
     "name": "stdout",
     "output_type": "stream",
     "text": [
      "root\n",
      " |-- medallion: string (nullable = true)\n",
      " |-- hack_license: string (nullable = true)\n",
      " |-- vendor_id: string (nullable = true)\n",
      " |-- pickup_datetime: timestamp (nullable = true)\n",
      " |-- rate_code: integer (nullable = true)\n",
      " |-- store_and_fwd_flag: string (nullable = true)\n",
      " |-- dropoff_datetime: timestamp (nullable = true)\n",
      " |-- passenger_count: integer (nullable = true)\n",
      " |-- trip_time_in_secs: float (nullable = true)\n",
      " |-- trip_distance: float (nullable = true)\n",
      " |-- pickup_longitude: float (nullable = true)\n",
      " |-- pickup_latitude: float (nullable = true)\n",
      " |-- dropoff_longitude: float (nullable = true)\n",
      " |-- dropoff_latitude: float (nullable = true)\n",
      " |-- payment_type: string (nullable = true)\n",
      " |-- fare_amount: float (nullable = true)\n",
      " |-- surcharge: float (nullable = true)\n",
      " |-- mta_tax: float (nullable = true)\n",
      " |-- tip_amount: float (nullable = true)\n",
      " |-- tolls_amount: float (nullable = true)\n",
      " |-- total_amount: float (nullable = true)\n",
      " |-- whether_tip: string (nullable = false)\n",
      "\n"
     ]
    }
   ],
   "source": [
    "# Print the schema\n",
    "new_df.printSchema()"
   ]
  },
  {
   "cell_type": "code",
   "execution_count": 7,
   "metadata": {},
   "outputs": [
    {
     "name": "stdout",
     "output_type": "stream",
     "text": [
      "Number of training records: 103909153\n",
      "Number of testing records : 69275938\n"
     ]
    }
   ],
   "source": [
    "# Split data into training and testing\n",
    "splitted_data = new_df.randomSplit([0.6, 0.4], 24)\n",
    "train_data = splitted_data[0]\n",
    "test_data = splitted_data[1]\n",
    "\n",
    "print(\"Number of training records: \" + str(train_data.count()))\n",
    "print(\"Number of testing records : \" + str(test_data.count()))"
   ]
  },
  {
   "cell_type": "markdown",
   "metadata": {},
   "source": [
    "* Create pipeline and train a model"
   ]
  },
  {
   "cell_type": "code",
   "execution_count": 8,
   "metadata": {},
   "outputs": [],
   "source": [
    "# Import all the packages we need\n",
    "\n",
    "from pyspark.ml.feature import OneHotEncoder, StringIndexer, IndexToString, VectorAssembler\n",
    "from pyspark.ml.classification import RandomForestClassifier, LogisticRegression\n",
    "from pyspark.mllib.evaluation import BinaryClassificationMetrics\n",
    "from pyspark.ml import Pipeline, Model"
   ]
  },
  {
   "cell_type": "code",
   "execution_count": 9,
   "metadata": {},
   "outputs": [],
   "source": [
    "# Convert all the string/timestamp fields to numeric ones.\n",
    "stringIndexer_label = StringIndexer(inputCol=\"whether_tip\", outputCol=\"label\").setHandleInvalid(\"skip\").fit(new_df)\n",
    "stringIndexer_medallion = StringIndexer(inputCol=\"medallion\", outputCol=\"medallion_IX\").setHandleInvalid(\"skip\").fit(new_df)\n",
    "stringIndexer_hack_license = StringIndexer(inputCol=\"hack_license\", outputCol=\"hack_license_IX\").setHandleInvalid(\"skip\").fit(new_df)\n",
    "\n",
    "stringIndexer_vendor_id = StringIndexer(inputCol=\"vendor_id\", outputCol=\"vendor_id_IX\").setHandleInvalid(\"skip\").fit(new_df)\n",
    "#stringIndexer_pickup_datetime = StringIndexer(inputCol=\"pickup_datetime\", outputCol=\"pickup_datetime_IX\").fit(new_df)\n",
    "stringIndexer_rate_code = StringIndexer(inputCol=\"rate_code\", outputCol=\"rate_code_IX\").setHandleInvalid(\"skip\").fit(new_df)\n",
    "\n",
    "stringIndexer_store_and_fwd_flag = StringIndexer(inputCol=\"store_and_fwd_flag\", outputCol=\"store_and_fwd_flag_IX\").setHandleInvalid(\"skip\").fit(new_df)\n",
    "#stringIndexer_dropoff_datetime = StringIndexer(inputCol=\"dropoff_datetime\", outputCol=\"dropoff_datetime_IX\").fit(new_df)\n",
    "stringIndexer_payment_type = StringIndexer(inputCol=\"payment_type\", outputCol=\"payment_type_IX\").setHandleInvalid(\"skip\").fit(new_df)"
   ]
  },
  {
   "cell_type": "code",
   "execution_count": 11,
   "metadata": {},
   "outputs": [
    {
     "data": {
      "text/plain": [
       "['yes', 'no']"
      ]
     },
     "execution_count": 11,
     "metadata": {},
     "output_type": "execute_result"
    }
   ],
   "source": [
    "# See the values of label\n",
    "stringIndexer_label.labels"
   ]
  },
  {
   "cell_type": "code",
   "execution_count": 12,
   "metadata": {},
   "outputs": [],
   "source": [
    "# Since we made our target variable based on tip_amount, we remove this column, otherwise it will be highly correlated to the target variable.\n",
    "# And we can remove toal_amount, because it is highly correlated to fare_amount, surcharge, mta_tax, and tolls_amount\n",
    "# Create a feature vector by combining all features together\n",
    "vectorAssembler_features = VectorAssembler(\n",
    "    inputCols=[\"medallion_IX\", \n",
    "               \"hack_license_IX\", \n",
    "               \"vendor_id_IX\", \n",
    "               \"rate_code_IX\",\n",
    "               \"store_and_fwd_flag_IX\",\n",
    "               \"payment_type_IX\",\n",
    "               \"passenger_count\",\n",
    "               \"trip_time_in_secs\",\n",
    "               \"trip_distance\",\n",
    "               \"pickup_longitude\",\n",
    "               \"pickup_latitude\",\n",
    "               \"dropoff_longitude\",\n",
    "               \"dropoff_latitude\",\n",
    "               \"fare_amount\",\n",
    "               \"surcharge\",\n",
    "               \"mta_tax\",\n",
    "               \"tolls_amount\"], \n",
    "    outputCol=\"features\")"
   ]
  },
  {
   "cell_type": "code",
   "execution_count": 13,
   "metadata": {},
   "outputs": [
    {
     "data": {
      "text/plain": [
       "VectorAssembler_780ef6a891d2"
      ]
     },
     "execution_count": 13,
     "metadata": {},
     "output_type": "execute_result"
    }
   ],
   "source": [
    "vectorAssembler_features"
   ]
  },
  {
   "cell_type": "code",
   "execution_count": 14,
   "metadata": {},
   "outputs": [],
   "source": [
    "# Define estimators for classification. \n",
    "log_model = LogisticRegression(labelCol=\"label\", featuresCol=\"features\") # Build a LogisticRegression model and train it using pipelines."
   ]
  },
  {
   "cell_type": "code",
   "execution_count": 15,
   "metadata": {},
   "outputs": [],
   "source": [
    "# Indexed labels back to original labels.\n",
    "labelConverter = IndexToString(inputCol=\"prediction\", \n",
    "                               outputCol=\"predictedLabel\",\n",
    "                               labels=stringIndexer_label.labels)"
   ]
  },
  {
   "cell_type": "code",
   "execution_count": 16,
   "metadata": {},
   "outputs": [],
   "source": [
    "# Build a pipeline\n",
    "pipeline_lg_model = Pipeline(stages=[stringIndexer_label, \n",
    "                               stringIndexer_medallion, \n",
    "                               stringIndexer_hack_license, \n",
    "                               stringIndexer_vendor_id, \n",
    "                               stringIndexer_rate_code,\n",
    "                               stringIndexer_store_and_fwd_flag,\n",
    "                               stringIndexer_payment_type,\n",
    "                               vectorAssembler_features, \n",
    "                               log_model, labelConverter])"
   ]
  },
  {
   "cell_type": "code",
   "execution_count": 17,
   "metadata": {},
   "outputs": [],
   "source": [
    "# Train the LogisticRegression model by using the previously defined pipeline and parts of train data to check whether the pipelines work as planned.\n",
    "\n",
    "sample = train_data.limit(100) # Create a tiny DataFrame\n",
    "model_lg = pipeline_lg_model.fit(sample)"
   ]
  },
  {
   "cell_type": "code",
   "execution_count": 18,
   "metadata": {},
   "outputs": [],
   "source": [
    "# Now we can apply the model and pipeline to the whole train_data\n",
    "model_lg = pipeline_lg_model.fit(train_data)"
   ]
  },
  {
   "cell_type": "code",
   "execution_count": null,
   "metadata": {},
   "outputs": [],
   "source": [
    "# Evaluate model\n",
    "\n",
    "# Evaluate model\n",
    "\n",
    "predictions = model_lg.transform(test_data)\n",
    "results = predictions.select(['probability','prediction']).cache() # dataframe\n",
    "\n",
    "results_collect = results.collect() # list\n",
    "results_list = [(float(i[0][0]), 1-float(i[1])) for i in results_collect]\n",
    "\n",
    "scoreAndLabels = spark.sparkContext.parallelize(results_list)\n",
    "\n",
    "scoreAndLabels.take(10)"
   ]
  },
  {
   "cell_type": "code",
   "execution_count": 155,
   "metadata": {},
   "outputs": [],
   "source": [
    "evaluatorLG = BinaryClassificationMetrics(scoresnLabels)"
   ]
  },
  {
   "cell_type": "code",
   "execution_count": 175,
   "metadata": {},
   "outputs": [
    {
     "data": {
      "text/plain": [
       "pyspark.rdd.PipelinedRDD"
      ]
     },
     "execution_count": 175,
     "metadata": {},
     "output_type": "execute_result"
    }
   ],
   "source": [
    "type(scoresnLabels)"
   ]
  },
  {
   "cell_type": "code",
   "execution_count": 93,
   "metadata": {},
   "outputs": [
    {
     "name": "stdout",
     "output_type": "stream",
     "text": [
      "+--------------------+--------------------+---------+-------------------+---------+------------------+-------------------+---------------+-----------------+-------------+----------------+---------------+-----------------+----------------+------------+-----------+---------+-------+----------+------------+------------+-----------+-----+------------+---------------+------------+------------+---------------------+---------------+--------------------+--------------------+--------------------+----------+--------------+\n",
      "|           medallion|        hack_license|vendor_id|    pickup_datetime|rate_code|store_and_fwd_flag|   dropoff_datetime|passenger_count|trip_time_in_secs|trip_distance|pickup_longitude|pickup_latitude|dropoff_longitude|dropoff_latitude|payment_type|fare_amount|surcharge|mta_tax|tip_amount|tolls_amount|total_amount|whether_tip|label|medallion_IX|hack_license_IX|vendor_id_IX|rate_code_IX|store_and_fwd_flag_IX|payment_type_IX|            features|       rawPrediction|         probability|prediction|predictedLabel|\n",
      "+--------------------+--------------------+---------+-------------------+---------+------------------+-------------------+---------------+-----------------+-------------+----------------+---------------+-----------------+----------------+------------+-----------+---------+-------+----------+------------+------------+-----------+-----+------------+---------------+------------+------------+---------------------+---------------+--------------------+--------------------+--------------------+----------+--------------+\n",
      "|00005007A9F30E289...|16780B3E72BAA7A5C...|      CMT|2013-03-27 19:49:35|        1|                 N|2013-03-27 19:53:00|              1|            204.0|          0.5|        -73.9915|      40.766277|        -73.98544|       40.768623|         CRD|        4.5|      1.0|    0.5|       1.2|         0.0|         7.2|        yes|  0.0|       471.0|         7011.0|         0.0|         0.0|                  0.0|            0.0|[471.0,7011.0,0.0...|[52.9203802626225...|[1.0,1.0398504203...|       0.0|           yes|\n",
      "|00005007A9F30E289...|1E3F1640D7AE96FAD...|      CMT|2013-04-24 21:57:34|        1|                 N|2013-04-24 22:16:29|              1|           1135.0|          5.0|       -74.00161|      40.730717|        -73.95048|       40.780666|         CRD|       18.0|      0.5|    0.5|       3.8|         0.0|        22.8|        yes|  0.0|       471.0|        25119.0|         0.0|         0.0|                  0.0|            0.0|[471.0,25119.0,0....|[57.8647375064109...|[1.0,7.4073660067...|       0.0|           yes|\n",
      "|00005007A9F30E289...|24C122A944FB8EE21...|      CMT|2013-11-02 13:29:16|        1|                 N|2013-11-02 13:38:12|              1|            535.0|          2.8|       -74.01722|      40.705463|       -74.007965|        40.74261|         CRD|       10.5|      0.0|    0.5|       2.2|         0.0|        13.2|        yes|  0.0|       471.0|         1837.0|         0.0|         0.0|                  0.0|            0.0|[471.0,1837.0,0.0...|[27.0648400609431...|[0.99999999999823...|       0.0|           yes|\n",
      "|00005007A9F30E289...|24C122A944FB8EE21...|      CMT|2013-11-05 14:16:33|        1|                 N|2013-11-05 14:25:42|              1|            548.0|          1.4|       -73.99929|       40.74918|         -74.0014|        40.73203|         CSH|        8.0|      0.0|    0.5|       0.0|         0.0|         8.5|         no|  1.0|       471.0|         1837.0|         0.0|         0.0|                  0.0|            1.0|[471.0,1837.0,0.0...|[-67.179492733366...|[6.67293675716696...|       1.0|            no|\n",
      "|00005007A9F30E289...|24C122A944FB8EE21...|      CMT|2013-11-20 13:23:45|        1|                 N|2013-11-20 13:36:24|              1|            759.0|          1.4|       -73.97496|       40.77781|        -73.96546|        40.76867|         CRD|       10.0|      0.0|    0.5|       2.1|         0.0|        12.6|        yes|  0.0|       471.0|         1837.0|         0.0|         0.0|                  0.0|            0.0|[471.0,1837.0,0.0...|[29.0865010957635...|[0.99999999999976...|       0.0|           yes|\n",
      "|00005007A9F30E289...|24C122A944FB8EE21...|      CMT|2013-12-19 07:55:04|        1|                 N|2013-12-19 08:02:30|              1|            446.0|          1.0|      -73.949425|       40.81245|       -73.943375|       40.802834|         CSH|        6.5|      0.0|    0.5|       0.0|         0.0|         7.0|         no|  1.0|       471.0|         1837.0|         0.0|         0.0|                  0.0|            1.0|[471.0,1837.0,0.0...|[-62.897974057762...|[4.82788530177443...|       1.0|            no|\n",
      "|00005007A9F30E289...|2C467A168227558F0...|      CMT|2013-06-04 18:30:22|        1|                 N|2013-06-04 18:48:16|              1|           1075.0|          2.0|       -73.95893|      40.768143|        -73.98447|       40.778717|         CRD|       12.5|      1.0|    0.5|       2.8|         0.0|        16.8|        yes|  0.0|       471.0|        22624.0|         0.0|         0.0|                  0.0|            0.0|[471.0,22624.0,0....|[65.0343253395773...|[1.0,5.7010043282...|       0.0|           yes|\n",
      "|00005007A9F30E289...|39C3E34B3E338A721...|      CMT|2013-01-13 14:45:56|        1|                 N|2013-01-13 15:00:33|              1|            876.0|          1.6|       -73.96168|       40.77663|         -73.9613|       40.761784|         CSH|       11.0|      0.0|    0.5|       0.0|         0.0|        11.5|         no|  1.0|       471.0|         2230.0|         0.0|         0.0|                  0.0|            1.0|[471.0,2230.0,0.0...|[-62.726903834769...|[5.72864351626118...|       1.0|            no|\n",
      "|00005007A9F30E289...|39C3E34B3E338A721...|      CMT|2013-03-15 08:29:09|        1|                 N|2013-03-15 08:37:07|              1|            478.0|          0.7|       -73.98566|      40.755035|       -73.982155|        40.75802|         CSH|        7.0|      0.0|    0.5|       0.0|         0.0|         7.5|         no|  1.0|       471.0|         2230.0|         0.0|         0.0|                  0.0|            1.0|[471.0,2230.0,0.0...|[-66.062118495989...|[2.03979477200723...|       1.0|            no|\n",
      "|00005007A9F30E289...|39C3E34B3E338A721...|      CMT|2013-03-27 12:14:44|        1|                 N|2013-03-27 12:30:11|              1|            926.0|          1.5|      -73.987656|      40.755215|         -73.9705|       40.757175|         CRD|       10.5|      0.0|    0.5|      2.75|         0.0|       13.75|        yes|  0.0|       471.0|         2230.0|         0.0|         0.0|                  0.0|            0.0|[471.0,2230.0,0.0...|[29.1002636841944...|[0.99999999999977...|       0.0|           yes|\n",
      "|00005007A9F30E289...|39C3E34B3E338A721...|      CMT|2013-04-28 09:44:46|        1|                 N|2013-04-28 10:09:51|              2|           1504.0|          2.6|      -73.950455|      40.775677|        -73.97517|       40.758335|         CRD|       17.0|      0.0|    0.5|       2.0|         0.0|        19.5|        yes|  0.0|       471.0|         2230.0|         0.0|         0.0|                  0.0|            0.0|[471.0,2230.0,0.0...|[44.2725041044597...|[1.0,5.9251011311...|       0.0|           yes|\n",
      "|00005007A9F30E289...|39C3E34B3E338A721...|      CMT|2013-05-03 11:12:46|        1|                 N|2013-05-03 11:32:42|              2|           1197.0|          2.2|       -73.97702|       40.75334|        -73.96109|       40.778915|         CSH|       13.5|      0.0|    0.5|       0.0|         0.0|        14.0|         no|  1.0|       471.0|         2230.0|         0.0|         0.0|                  0.0|            1.0|[471.0,2230.0,0.0...|[-48.624520125932...|[7.63201515557058...|       1.0|            no|\n",
      "|00005007A9F30E289...|39C3E34B3E338A721...|      CMT|2013-09-19 16:32:45|        1|                 N|2013-09-19 16:45:22|              2|            757.0|          2.1|       -73.99439|      40.751087|       -73.998405|       40.732204|         CSH|       10.5|      1.0|    0.5|       0.0|         0.0|        12.0|         no|  1.0|       471.0|         2230.0|         0.0|         0.0|                  0.0|            1.0|[471.0,2230.0,0.0...|[-28.291736031886...|[5.16481961275720...|       1.0|            no|\n",
      "|00005007A9F30E289...|3FDE870B892182B43...|      CMT|2013-11-19 18:57:56|        1|                 N|2013-11-19 19:12:51|              2|            895.0|          1.5|       -73.96258|        40.7758|        -73.98148|       40.774498|         CSH|       10.0|      1.0|    0.5|       0.0|         0.0|        11.5|         no|  1.0|       471.0|         5077.0|         0.0|         0.0|                  0.0|            1.0|[471.0,5077.0,0.0...|[-24.732764231369...|[1.81424933302799...|       1.0|            no|\n",
      "|00005007A9F30E289...|3FDE870B892182B43...|      CMT|2013-12-18 16:51:59|        1|                 N|2013-12-18 16:58:14|              1|            374.0|          0.2|       -73.98236|       40.75009|        -73.98505|       40.747772|         CRD|        5.5|      1.0|    0.5|       2.1|         0.0|         9.1|        yes|  0.0|       471.0|         5077.0|         0.0|         0.0|                  0.0|            0.0|[471.0,5077.0,0.0...|[51.5370708497640...|[1.0,4.1470045941...|       0.0|           yes|\n",
      "|00005007A9F30E289...|43468C5D35F828693...|      CMT|2013-01-01 16:43:37|        1|                 N|2013-01-01 16:51:30|              1|            473.0|          2.0|       -73.98457|      40.728558|        -73.97762|        40.75056|         CSH|        8.5|      0.0|    0.5|       0.0|         0.0|         9.0|         no|  1.0|       471.0|         4877.0|         0.0|         0.0|                  0.0|            1.0|[471.0,4877.0,0.0...|[-64.007541062556...|[1.59176194033810...|       1.0|            no|\n",
      "|00005007A9F30E289...|63CCE22BEC3F17D5B...|      CMT|2013-04-02 12:55:50|        1|                 N|2013-04-02 13:18:26|              1|           1355.0|          6.0|       -73.97158|      40.761826|        -74.00628|         40.7111|         CSH|       22.0|      0.0|    0.5|       0.0|         0.0|        22.5|         no|  1.0|       471.0|        13606.0|         0.0|         0.0|                  0.0|            1.0|[471.0,13606.0,0....|[-54.910280223906...|[1.42157016106001...|       1.0|            no|\n",
      "|00005007A9F30E289...|63CCE22BEC3F17D5B...|      CMT|2013-08-06 08:38:50|        1|                 N|2013-08-06 08:56:52|              2|           1081.0|          3.2|       -73.96299|      40.794113|       -73.974625|        40.75717|         CSH|       15.0|      0.0|    0.5|       0.0|         0.0|        15.5|         no|  1.0|       471.0|        13606.0|         0.0|         0.0|                  0.0|            1.0|[471.0,13606.0,0....|[-44.517274928381...|[4.63866649446917...|       1.0|            no|\n",
      "|00005007A9F30E289...|6D167C962D9227982...|      CMT|2013-11-24 12:08:51|        1|                 N|2013-11-24 12:30:00|              1|           1268.0|          2.5|      -74.004745|       40.74185|        -73.98016|       40.765755|         CRD|       15.0|      0.0|    0.5|      3.87|         0.0|       19.37|        yes|  0.0|       471.0|        31233.0|         0.0|         0.0|                  0.0|            0.0|[471.0,31233.0,0....|[43.9851448075092...|[1.0,7.8975852830...|       0.0|           yes|\n",
      "|00005007A9F30E289...|A9AE329EA1138052D...|      CMT|2013-01-27 03:02:52|        1|                 N|2013-01-27 03:12:33|              1|            580.0|          3.4|       -73.99965|      40.726948|       -73.981926|       40.768215|         CRD|       12.0|      0.5|    0.5|       2.0|         0.0|        15.0|        yes|  0.0|       471.0|        26934.0|         0.0|         0.0|                  0.0|            0.0|[471.0,26934.0,0....|[53.2235679729087...|[1.0,7.6788842675...|       0.0|           yes|\n",
      "+--------------------+--------------------+---------+-------------------+---------+------------------+-------------------+---------------+-----------------+-------------+----------------+---------------+-----------------+----------------+------------+-----------+---------+-------+----------+------------+------------+-----------+-----+------------+---------------+------------+------------+---------------------+---------------+--------------------+--------------------+--------------------+----------+--------------+\n",
      "only showing top 20 rows\n",
      "\n"
     ]
    }
   ],
   "source": [
    "predictions.show()"
   ]
  },
  {
   "cell_type": "markdown",
   "metadata": {},
   "source": [
    "## In the following cells, please provide the requested code and output. Do not change the order and/or structure of the cells."
   ]
  },
  {
   "cell_type": "markdown",
   "metadata": {},
   "source": [
    "In the following cell, print the Area Under the Curve (AUC) for your binary classifier."
   ]
  },
  {
   "cell_type": "code",
   "execution_count": null,
   "metadata": {},
   "outputs": [],
   "source": [
    "print(\"Area under ROC = %s\" % evaluatorLG.areaUnderROC)"
   ]
  },
  {
   "cell_type": "markdown",
   "metadata": {},
   "source": [
    "In the following cell, provide the code that saves your model your S3 bucket."
   ]
  },
  {
   "cell_type": "code",
   "execution_count": null,
   "metadata": {},
   "outputs": [],
   "source": []
  }
 ],
 "metadata": {
  "anaconda-cloud": {},
  "celltoolbar": "Raw Cell Format",
  "kernelspec": {
   "display_name": "Python 3",
   "language": "python",
   "name": "python3"
  },
  "language_info": {
   "codemirror_mode": {
    "name": "ipython",
    "version": 3
   },
   "file_extension": ".py",
   "mimetype": "text/x-python",
   "name": "python",
   "nbconvert_exporter": "python",
   "pygments_lexer": "ipython3",
   "version": "3.6.8"
  }
 },
 "nbformat": 4,
 "nbformat_minor": 2
}
